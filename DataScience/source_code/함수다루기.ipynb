{
 "cells": [
  {
   "cell_type": "code",
   "execution_count": 1,
   "metadata": {},
   "outputs": [],
   "source": [
    "# 파이썬 함수 다루기"
   ]
  },
  {
   "cell_type": "code",
   "execution_count": 2,
   "metadata": {},
   "outputs": [
    {
     "name": "stdout",
     "output_type": "stream",
     "text": [
      "30\n"
     ]
    }
   ],
   "source": [
    "print(10 + 20)"
   ]
  },
  {
   "cell_type": "code",
   "execution_count": 3,
   "metadata": {},
   "outputs": [
    {
     "name": "stdout",
     "output_type": "stream",
     "text": [
      "300\n"
     ]
    }
   ],
   "source": [
    "print(200 + 100)"
   ]
  },
  {
   "cell_type": "code",
   "execution_count": 6,
   "metadata": {},
   "outputs": [],
   "source": [
    "def add(): #함수를 만드는 것 => definition(정의)\n",
    "    print(\"나를 호출하셨군요...\") #함수를 사용하는 것 => call(호출)"
   ]
  },
  {
   "cell_type": "code",
   "execution_count": 7,
   "metadata": {},
   "outputs": [
    {
     "name": "stdout",
     "output_type": "stream",
     "text": [
      "나를 호출하셨군요...\n"
     ]
    }
   ],
   "source": [
    "add()"
   ]
  },
  {
   "cell_type": "code",
   "execution_count": 8,
   "metadata": {},
   "outputs": [],
   "source": [
    "def add2(x, y):\n",
    "    print(\"두 수의 합은:\", x+y)"
   ]
  },
  {
   "cell_type": "code",
   "execution_count": 9,
   "metadata": {},
   "outputs": [
    {
     "name": "stdout",
     "output_type": "stream",
     "text": [
      "두 수의 합은: 300\n"
     ]
    }
   ],
   "source": [
    "add2(100, 200)"
   ]
  },
  {
   "cell_type": "code",
   "execution_count": 10,
   "metadata": {},
   "outputs": [],
   "source": [
    "def minus(x, y):\n",
    "    print(\"두 수의 차는\", x-y)"
   ]
  },
  {
   "cell_type": "code",
   "execution_count": 11,
   "metadata": {},
   "outputs": [
    {
     "name": "stdout",
     "output_type": "stream",
     "text": [
      "두 수의 차는 45\n"
     ]
    }
   ],
   "source": [
    "minus(50, 5)"
   ]
  },
  {
   "cell_type": "code",
   "execution_count": 12,
   "metadata": {},
   "outputs": [],
   "source": [
    "def mul(x, y):\n",
    "    print(\"두 수의 곱은\", x*y)"
   ]
  },
  {
   "cell_type": "code",
   "execution_count": 13,
   "metadata": {},
   "outputs": [
    {
     "name": "stdout",
     "output_type": "stream",
     "text": [
      "두 수의 곱은 50\n"
     ]
    }
   ],
   "source": [
    "mul(10, 5)"
   ]
  },
  {
   "cell_type": "code",
   "execution_count": 14,
   "metadata": {},
   "outputs": [],
   "source": [
    "def div(x, y):\n",
    "    print(\"두 수의 나누기는\", x/y)"
   ]
  },
  {
   "cell_type": "code",
   "execution_count": 15,
   "metadata": {},
   "outputs": [
    {
     "name": "stdout",
     "output_type": "stream",
     "text": [
      "두 수의 나누기는 5.0\n"
     ]
    }
   ],
   "source": [
    "div(10, 2)"
   ]
  },
  {
   "cell_type": "code",
   "execution_count": 33,
   "metadata": {},
   "outputs": [
    {
     "name": "stdout",
     "output_type": "stream",
     "text": [
      "숫자1 입력: 10000\n",
      "숫자2 입력: 5\n"
     ]
    }
   ],
   "source": [
    "num1 = input(\"숫자1 입력: \")\n",
    "num2 = input(\"숫자2 입력: \")"
   ]
  },
  {
   "cell_type": "code",
   "execution_count": 34,
   "metadata": {},
   "outputs": [],
   "source": [
    "n1 = int(num1)\n",
    "n2 = int(num2)"
   ]
  },
  {
   "cell_type": "code",
   "execution_count": 35,
   "metadata": {},
   "outputs": [],
   "source": [
    "# print(n1 + n2)"
   ]
  },
  {
   "cell_type": "code",
   "execution_count": 36,
   "metadata": {},
   "outputs": [
    {
     "name": "stdout",
     "output_type": "stream",
     "text": [
      "연산자를 입력(+, -, *, / 중 하나) -\n"
     ]
    }
   ],
   "source": [
    "oper = input(\"연산자를 입력(+, -, *, / 중 하나) \")"
   ]
  },
  {
   "cell_type": "code",
   "execution_count": 37,
   "metadata": {},
   "outputs": [
    {
     "name": "stdout",
     "output_type": "stream",
     "text": [
      "두 수의 차는 9995\n"
     ]
    }
   ],
   "source": [
    "if oper == \"+\":\n",
    "    add2(n1, n2)\n",
    "if oper == \"-\":\n",
    "    minus(n1, n2)\n",
    "if oper == \"*\":\n",
    "    mul(n1, n2)\n",
    "if oper == \"/\":\n",
    "    div(n1, n2)\n",
    "    "
   ]
  },
  {
   "cell_type": "code",
   "execution_count": 41,
   "metadata": {},
   "outputs": [],
   "source": [
    "def foodtotal(person) :\n",
    "    price = 5000\n",
    "    return person*price"
   ]
  },
  {
   "cell_type": "code",
   "execution_count": 45,
   "metadata": {},
   "outputs": [],
   "source": [
    "total = foodtotal(5) #반환값이 있는 형태의 함수는 결과값을 변수에 넣어준다"
   ]
  },
  {
   "cell_type": "code",
   "execution_count": 47,
   "metadata": {},
   "outputs": [
    {
     "name": "stdout",
     "output_type": "stream",
     "text": [
      "당신의 금액은 25000 원 입니다\n"
     ]
    }
   ],
   "source": [
    "if (total >= 50000):\n",
    "    print(\"당신의 금액은\", total-5000, \"원 입니다\")\n",
    "else :\n",
    "    print(\"당신의 금액은\", total, \"원 입니다\")\n"
   ]
  },
  {
   "cell_type": "code",
   "execution_count": 48,
   "metadata": {},
   "outputs": [],
   "source": [
    "hobby = [\"승마\", \"달리기\", \"등산\", \"먹기\"]"
   ]
  },
  {
   "cell_type": "code",
   "execution_count": 50,
   "metadata": {},
   "outputs": [],
   "source": [
    "hobby[3] = \"걷기\""
   ]
  },
  {
   "cell_type": "code",
   "execution_count": 51,
   "metadata": {},
   "outputs": [
    {
     "name": "stdout",
     "output_type": "stream",
     "text": [
      "승마\n",
      "달리기\n",
      "등산\n",
      "걷기\n"
     ]
    }
   ],
   "source": [
    "for h in hobby:\n",
    "    print(h)"
   ]
  },
  {
   "cell_type": "code",
   "execution_count": 52,
   "metadata": {},
   "outputs": [],
   "source": [
    "hobby.append(\"날기\")"
   ]
  },
  {
   "cell_type": "code",
   "execution_count": 53,
   "metadata": {},
   "outputs": [
    {
     "name": "stdout",
     "output_type": "stream",
     "text": [
      "승마\n",
      "달리기\n",
      "등산\n",
      "걷기\n",
      "날기\n"
     ]
    }
   ],
   "source": [
    "for h in hobby:\n",
    "    print(h)"
   ]
  },
  {
   "cell_type": "code",
   "execution_count": 54,
   "metadata": {},
   "outputs": [],
   "source": [
    "s=[\"hera@naver.com\", \"gardenpro@daum.net\", \"korea@koera.co.kr\"]"
   ]
  },
  {
   "cell_type": "code",
   "execution_count": 55,
   "metadata": {},
   "outputs": [
    {
     "ename": "SyntaxError",
     "evalue": "invalid syntax (<ipython-input-55-74d3eac6aa67>, line 1)",
     "output_type": "error",
     "traceback": [
      "\u001b[1;36m  File \u001b[1;32m\"<ipython-input-55-74d3eac6aa67>\"\u001b[1;36m, line \u001b[1;32m1\u001b[0m\n\u001b[1;33m    for x in s\u001b[0m\n\u001b[1;37m              ^\u001b[0m\n\u001b[1;31mSyntaxError\u001b[0m\u001b[1;31m:\u001b[0m invalid syntax\n"
     ]
    }
   ],
   "source": [
    "for x in s:\n",
    "    print(x)"
   ]
  },
  {
   "cell_type": "code",
   "execution_count": null,
   "metadata": {},
   "outputs": [],
   "source": [
    "\n",
    "if s.endswith(\".com\"):\n",
    "    print(\"닷컴 회사시군요.\")\n",
    "elif s.endswith(\".net\"):\n",
    "    print(\"닷넷 회사시군요.\")\n",
    "elif s.endswith(\".rk\"):\n",
    "    print(\"한국에 있는 회사군요.\")    \n",
    "else s.endswith(\".net\"):\n",
    "    print(\"저도 잘 모르겠어요.\")    "
   ]
  }
 ],
 "metadata": {
  "kernelspec": {
   "display_name": "Python 3",
   "language": "python",
   "name": "python3"
  },
  "language_info": {
   "codemirror_mode": {
    "name": "ipython",
    "version": 3
   },
   "file_extension": ".py",
   "mimetype": "text/x-python",
   "name": "python",
   "nbconvert_exporter": "python",
   "pygments_lexer": "ipython3",
   "version": "3.7.0"
  }
 },
 "nbformat": 4,
 "nbformat_minor": 2
}
